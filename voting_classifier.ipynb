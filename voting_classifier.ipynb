{
 "cells": [
  {
   "cell_type": "code",
   "execution_count": 1,
   "metadata": {},
   "outputs": [],
   "source": [
    "import torch\n",
    "import torch.nn as nn\n",
    "import numpy as np\n",
    "import matplotlib.pyplot as plt\n",
    "from sklearn import datasets\n",
    "from sklearn.preprocessing import StandardScaler\n",
    "from sklearn.model_selection import train_test_split\n",
    "from sklearn.metrics import confusion_matrix,classification_report\n",
    "import warnings\n",
    "\n",
    "data = datasets.load_breast_cancer()\n",
    "X,y = data.data,data.target\n",
    "\n",
    "n_samples, n_features = X.shape\n",
    "X_train, X_test, y_train,y_test = train_test_split(X,y,test_size=0.3,random_state=123)\n",
    "\n",
    "sc = StandardScaler()\n",
    "X_train = sc.fit_transform(X_train)\n",
    "X_test = sc.transform(X_test)\n",
    "\n",
    "X_train = torch.from_numpy(X_train.astype(np.float32))\n",
    "X_test = torch.from_numpy(X_test.astype(np.float32))\n",
    "y_train = torch.from_numpy(y_train.astype(np.float32))\n",
    "y_test = torch.from_numpy(y_test.astype(np.float32))\n",
    "\n",
    "y_train = y_train.view(y_train.shape[0],1)\n",
    "y_test = y_test.view(y_test.shape[0], 1)"
   ]
  },
  {
   "cell_type": "code",
   "execution_count": 2,
   "metadata": {},
   "outputs": [],
   "source": [
    "\n",
    "\n",
    "from sklearn.tree import DecisionTreeClassifier\n",
    "from sklearn.ensemble import RandomForestClassifier\n",
    "from sklearn.naive_bayes import GaussianNB\n",
    "from sklearn.neighbors import KNeighborsClassifier\n",
    "from sklearn.svm import SVC\n",
    "from sklearn.neural_network import MLPClassifier\n",
    "from sklearn.ensemble import AdaBoostClassifier\n",
    "from sklearn.ensemble import GradientBoostingClassifier\n",
    "from sklearn.ensemble import ExtraTreesClassifier\n",
    "from sklearn.linear_model import LogisticRegression\n",
    "from sklearn.metrics import accuracy_score\n",
    "from sklearn.preprocessing import LabelEncoder\n",
    "from xgboost import XGBClassifier\n",
    "from catboost import CatBoostClassifier\n",
    "from sklearn.metrics import accuracy_score\n",
    "from sklearn.metrics import classification_report\n",
    "import pandas as pd"
   ]
  },
  {
   "cell_type": "code",
   "execution_count": 3,
   "metadata": {},
   "outputs": [
    {
     "ename": "ValueError",
     "evalue": "Cannot set a frame with no defined index and a value that cannot be converted to a Series",
     "output_type": "error",
     "traceback": [
      "\u001b[1;31m---------------------------------------------------------------------------\u001b[0m",
      "\u001b[1;31mValueError\u001b[0m                                Traceback (most recent call last)",
      "File \u001b[1;32mc:\\Users\\Antonio\\anaconda3\\lib\\site-packages\\pandas\\core\\frame.py:3892\u001b[0m, in \u001b[0;36mDataFrame._ensure_valid_index\u001b[1;34m(self, value)\u001b[0m\n\u001b[0;32m   3891\u001b[0m \u001b[39mtry\u001b[39;00m:\n\u001b[1;32m-> 3892\u001b[0m     value \u001b[39m=\u001b[39m Series(value)\n\u001b[0;32m   3893\u001b[0m \u001b[39mexcept\u001b[39;00m (\u001b[39mValueError\u001b[39;00m, \u001b[39mNotImplementedError\u001b[39;00m, \u001b[39mTypeError\u001b[39;00m) \u001b[39mas\u001b[39;00m err:\n",
      "File \u001b[1;32mc:\\Users\\Antonio\\anaconda3\\lib\\site-packages\\pandas\\core\\series.py:451\u001b[0m, in \u001b[0;36mSeries.__init__\u001b[1;34m(self, data, index, dtype, name, copy, fastpath)\u001b[0m\n\u001b[0;32m    450\u001b[0m \u001b[39melse\u001b[39;00m:\n\u001b[1;32m--> 451\u001b[0m     data \u001b[39m=\u001b[39m sanitize_array(data, index, dtype, copy)\n\u001b[0;32m    453\u001b[0m     manager \u001b[39m=\u001b[39m get_option(\u001b[39m\"\u001b[39m\u001b[39mmode.data_manager\u001b[39m\u001b[39m\"\u001b[39m)\n",
      "File \u001b[1;32mc:\\Users\\Antonio\\anaconda3\\lib\\site-packages\\pandas\\core\\construction.py:598\u001b[0m, in \u001b[0;36msanitize_array\u001b[1;34m(data, index, dtype, copy, raise_cast_failure, allow_2d)\u001b[0m\n\u001b[0;32m    596\u001b[0m             subarr \u001b[39m=\u001b[39m maybe_infer_to_datetimelike(subarr)\n\u001b[1;32m--> 598\u001b[0m subarr \u001b[39m=\u001b[39m _sanitize_ndim(subarr, data, dtype, index, allow_2d\u001b[39m=\u001b[39;49mallow_2d)\n\u001b[0;32m    600\u001b[0m \u001b[39mif\u001b[39;00m \u001b[39misinstance\u001b[39m(subarr, np\u001b[39m.\u001b[39mndarray):\n\u001b[0;32m    601\u001b[0m     \u001b[39m# at this point we should have dtype be None or subarr.dtype == dtype\u001b[39;00m\n",
      "File \u001b[1;32mc:\\Users\\Antonio\\anaconda3\\lib\\site-packages\\pandas\\core\\construction.py:649\u001b[0m, in \u001b[0;36m_sanitize_ndim\u001b[1;34m(result, data, dtype, index, allow_2d)\u001b[0m\n\u001b[0;32m    648\u001b[0m         \u001b[39mreturn\u001b[39;00m result\n\u001b[1;32m--> 649\u001b[0m     \u001b[39mraise\u001b[39;00m \u001b[39mValueError\u001b[39;00m(\u001b[39m\"\u001b[39m\u001b[39mData must be 1-dimensional\u001b[39m\u001b[39m\"\u001b[39m)\n\u001b[0;32m    650\u001b[0m \u001b[39mif\u001b[39;00m is_object_dtype(dtype) \u001b[39mand\u001b[39;00m \u001b[39misinstance\u001b[39m(dtype, ExtensionDtype):\n\u001b[0;32m    651\u001b[0m     \u001b[39m# i.e. PandasDtype(\"O\")\u001b[39;00m\n",
      "\u001b[1;31mValueError\u001b[0m: Data must be 1-dimensional",
      "\nThe above exception was the direct cause of the following exception:\n",
      "\u001b[1;31mValueError\u001b[0m                                Traceback (most recent call last)",
      "\u001b[1;32mc:\\Users\\Antonio\\Desktop\\UUZOP\\Projekt\\grupna_faza_projekta\\UZOP---Projekt\\voting_classifier.ipynb Cell 3\u001b[0m in \u001b[0;36m<cell line: 15>\u001b[1;34m()\u001b[0m\n\u001b[0;32m      <a href='vscode-notebook-cell:/c%3A/Users/Antonio/Desktop/UUZOP/Projekt/grupna_faza_projekta/UZOP---Projekt/voting_classifier.ipynb#W2sZmlsZQ%3D%3D?line=0'>1</a>\u001b[0m classifiers \u001b[39m=\u001b[39m [[\u001b[39m'\u001b[39m\u001b[39mMulti-layer Neural Network :\u001b[39m\u001b[39m'\u001b[39m, MLPClassifier(max_iter\u001b[39m=\u001b[39m\u001b[39m1000\u001b[39m)],\n\u001b[0;32m      <a href='vscode-notebook-cell:/c%3A/Users/Antonio/Desktop/UUZOP/Projekt/grupna_faza_projekta/UZOP---Projekt/voting_classifier.ipynb#W2sZmlsZQ%3D%3D?line=1'>2</a>\u001b[0m                [\u001b[39m'\u001b[39m\u001b[39mLogisticRegression :\u001b[39m\u001b[39m'\u001b[39m, LogisticRegression(max_iter\u001b[39m=\u001b[39m\u001b[39m1000\u001b[39m)],\n\u001b[0;32m      <a href='vscode-notebook-cell:/c%3A/Users/Antonio/Desktop/UUZOP/Projekt/grupna_faza_projekta/UZOP---Projekt/voting_classifier.ipynb#W2sZmlsZQ%3D%3D?line=2'>3</a>\u001b[0m                [\u001b[39m'\u001b[39m\u001b[39mExtraTreesClassifier :\u001b[39m\u001b[39m'\u001b[39m, ExtraTreesClassifier()],\n\u001b[1;32m   (...)\u001b[0m\n\u001b[0;32m     <a href='vscode-notebook-cell:/c%3A/Users/Antonio/Desktop/UUZOP/Projekt/grupna_faza_projekta/UZOP---Projekt/voting_classifier.ipynb#W2sZmlsZQ%3D%3D?line=10'>11</a>\u001b[0m                [\u001b[39m'\u001b[39m\u001b[39mXGB :\u001b[39m\u001b[39m'\u001b[39m, XGBClassifier()]\n\u001b[0;32m     <a href='vscode-notebook-cell:/c%3A/Users/Antonio/Desktop/UUZOP/Projekt/grupna_faza_projekta/UZOP---Projekt/voting_classifier.ipynb#W2sZmlsZQ%3D%3D?line=11'>12</a>\u001b[0m                ]\n\u001b[0;32m     <a href='vscode-notebook-cell:/c%3A/Users/Antonio/Desktop/UUZOP/Projekt/grupna_faza_projekta/UZOP---Projekt/voting_classifier.ipynb#W2sZmlsZQ%3D%3D?line=13'>14</a>\u001b[0m predictions_df \u001b[39m=\u001b[39m pd\u001b[39m.\u001b[39mDataFrame()\n\u001b[1;32m---> <a href='vscode-notebook-cell:/c%3A/Users/Antonio/Desktop/UUZOP/Projekt/grupna_faza_projekta/UZOP---Projekt/voting_classifier.ipynb#W2sZmlsZQ%3D%3D?line=14'>15</a>\u001b[0m predictions_df[\u001b[39m'\u001b[39m\u001b[39maction\u001b[39m\u001b[39m'\u001b[39m] \u001b[39m=\u001b[39m y_test\n\u001b[0;32m     <a href='vscode-notebook-cell:/c%3A/Users/Antonio/Desktop/UUZOP/Projekt/grupna_faza_projekta/UZOP---Projekt/voting_classifier.ipynb#W2sZmlsZQ%3D%3D?line=16'>17</a>\u001b[0m \u001b[39mfor\u001b[39;00m name,classifier \u001b[39min\u001b[39;00m classifiers:\n\u001b[0;32m     <a href='vscode-notebook-cell:/c%3A/Users/Antonio/Desktop/UUZOP/Projekt/grupna_faza_projekta/UZOP---Projekt/voting_classifier.ipynb#W2sZmlsZQ%3D%3D?line=17'>18</a>\u001b[0m     classifier \u001b[39m=\u001b[39m classifier\n",
      "File \u001b[1;32mc:\\Users\\Antonio\\anaconda3\\lib\\site-packages\\pandas\\core\\frame.py:3655\u001b[0m, in \u001b[0;36mDataFrame.__setitem__\u001b[1;34m(self, key, value)\u001b[0m\n\u001b[0;32m   3652\u001b[0m     \u001b[39mself\u001b[39m\u001b[39m.\u001b[39m_setitem_array([key], value)\n\u001b[0;32m   3653\u001b[0m \u001b[39melse\u001b[39;00m:\n\u001b[0;32m   3654\u001b[0m     \u001b[39m# set column\u001b[39;00m\n\u001b[1;32m-> 3655\u001b[0m     \u001b[39mself\u001b[39;49m\u001b[39m.\u001b[39;49m_set_item(key, value)\n",
      "File \u001b[1;32mc:\\Users\\Antonio\\anaconda3\\lib\\site-packages\\pandas\\core\\frame.py:3832\u001b[0m, in \u001b[0;36mDataFrame._set_item\u001b[1;34m(self, key, value)\u001b[0m\n\u001b[0;32m   3822\u001b[0m \u001b[39mdef\u001b[39;00m \u001b[39m_set_item\u001b[39m(\u001b[39mself\u001b[39m, key, value) \u001b[39m-\u001b[39m\u001b[39m>\u001b[39m \u001b[39mNone\u001b[39;00m:\n\u001b[0;32m   3823\u001b[0m     \u001b[39m\"\"\"\u001b[39;00m\n\u001b[0;32m   3824\u001b[0m \u001b[39m    Add series to DataFrame in specified column.\u001b[39;00m\n\u001b[0;32m   3825\u001b[0m \n\u001b[1;32m   (...)\u001b[0m\n\u001b[0;32m   3830\u001b[0m \u001b[39m    ensure homogeneity.\u001b[39;00m\n\u001b[0;32m   3831\u001b[0m \u001b[39m    \"\"\"\u001b[39;00m\n\u001b[1;32m-> 3832\u001b[0m     value \u001b[39m=\u001b[39m \u001b[39mself\u001b[39;49m\u001b[39m.\u001b[39;49m_sanitize_column(value)\n\u001b[0;32m   3834\u001b[0m     \u001b[39mif\u001b[39;00m (\n\u001b[0;32m   3835\u001b[0m         key \u001b[39min\u001b[39;00m \u001b[39mself\u001b[39m\u001b[39m.\u001b[39mcolumns\n\u001b[0;32m   3836\u001b[0m         \u001b[39mand\u001b[39;00m value\u001b[39m.\u001b[39mndim \u001b[39m==\u001b[39m \u001b[39m1\u001b[39m\n\u001b[0;32m   3837\u001b[0m         \u001b[39mand\u001b[39;00m \u001b[39mnot\u001b[39;00m is_extension_array_dtype(value)\n\u001b[0;32m   3838\u001b[0m     ):\n\u001b[0;32m   3839\u001b[0m         \u001b[39m# broadcast across multiple columns if necessary\u001b[39;00m\n\u001b[0;32m   3840\u001b[0m         \u001b[39mif\u001b[39;00m \u001b[39mnot\u001b[39;00m \u001b[39mself\u001b[39m\u001b[39m.\u001b[39mcolumns\u001b[39m.\u001b[39mis_unique \u001b[39mor\u001b[39;00m \u001b[39misinstance\u001b[39m(\u001b[39mself\u001b[39m\u001b[39m.\u001b[39mcolumns, MultiIndex):\n",
      "File \u001b[1;32mc:\\Users\\Antonio\\anaconda3\\lib\\site-packages\\pandas\\core\\frame.py:4528\u001b[0m, in \u001b[0;36mDataFrame._sanitize_column\u001b[1;34m(self, value)\u001b[0m\n\u001b[0;32m   4515\u001b[0m \u001b[39mdef\u001b[39;00m \u001b[39m_sanitize_column\u001b[39m(\u001b[39mself\u001b[39m, value) \u001b[39m-\u001b[39m\u001b[39m>\u001b[39m ArrayLike:\n\u001b[0;32m   4516\u001b[0m     \u001b[39m\"\"\"\u001b[39;00m\n\u001b[0;32m   4517\u001b[0m \u001b[39m    Ensures new columns (which go into the BlockManager as new blocks) are\u001b[39;00m\n\u001b[0;32m   4518\u001b[0m \u001b[39m    always copied and converted into an array.\u001b[39;00m\n\u001b[1;32m   (...)\u001b[0m\n\u001b[0;32m   4526\u001b[0m \u001b[39m    numpy.ndarray or ExtensionArray\u001b[39;00m\n\u001b[0;32m   4527\u001b[0m \u001b[39m    \"\"\"\u001b[39;00m\n\u001b[1;32m-> 4528\u001b[0m     \u001b[39mself\u001b[39;49m\u001b[39m.\u001b[39;49m_ensure_valid_index(value)\n\u001b[0;32m   4530\u001b[0m     \u001b[39m# We should never get here with DataFrame value\u001b[39;00m\n\u001b[0;32m   4531\u001b[0m     \u001b[39mif\u001b[39;00m \u001b[39misinstance\u001b[39m(value, Series):\n",
      "File \u001b[1;32mc:\\Users\\Antonio\\anaconda3\\lib\\site-packages\\pandas\\core\\frame.py:3894\u001b[0m, in \u001b[0;36mDataFrame._ensure_valid_index\u001b[1;34m(self, value)\u001b[0m\n\u001b[0;32m   3892\u001b[0m         value \u001b[39m=\u001b[39m Series(value)\n\u001b[0;32m   3893\u001b[0m     \u001b[39mexcept\u001b[39;00m (\u001b[39mValueError\u001b[39;00m, \u001b[39mNotImplementedError\u001b[39;00m, \u001b[39mTypeError\u001b[39;00m) \u001b[39mas\u001b[39;00m err:\n\u001b[1;32m-> 3894\u001b[0m         \u001b[39mraise\u001b[39;00m \u001b[39mValueError\u001b[39;00m(\n\u001b[0;32m   3895\u001b[0m             \u001b[39m\"\u001b[39m\u001b[39mCannot set a frame with no defined index \u001b[39m\u001b[39m\"\u001b[39m\n\u001b[0;32m   3896\u001b[0m             \u001b[39m\"\u001b[39m\u001b[39mand a value that cannot be converted to a Series\u001b[39m\u001b[39m\"\u001b[39m\n\u001b[0;32m   3897\u001b[0m         ) \u001b[39mfrom\u001b[39;00m \u001b[39merr\u001b[39;00m\n\u001b[0;32m   3899\u001b[0m \u001b[39m# GH31368 preserve name of index\u001b[39;00m\n\u001b[0;32m   3900\u001b[0m index_copy \u001b[39m=\u001b[39m value\u001b[39m.\u001b[39mindex\u001b[39m.\u001b[39mcopy()\n",
      "\u001b[1;31mValueError\u001b[0m: Cannot set a frame with no defined index and a value that cannot be converted to a Series"
     ]
    }
   ],
   "source": [
    "classifiers = [['Multi-layer Neural Network :', MLPClassifier(max_iter=1000)],\n",
    "               ['LogisticRegression :', LogisticRegression(max_iter=1000)],\n",
    "               ['ExtraTreesClassifier :', ExtraTreesClassifier()],\n",
    "               ['DecisionTree :',DecisionTreeClassifier()],\n",
    "               ['RandomForest :',RandomForestClassifier()], \n",
    "               ['Naive Bayes :', GaussianNB()],\n",
    "               ['KNeighbours :', KNeighborsClassifier()],\n",
    "               ['SVM :', SVC()],\n",
    "               ['AdaBoostClassifier :', AdaBoostClassifier()],\n",
    "               ['GradientBoostingClassifier: ', GradientBoostingClassifier()],\n",
    "               ['XGB :', XGBClassifier()]\n",
    "               ]\n",
    "\n",
    "predictions_df = pd.DataFrame()\n",
    "predictions_df['action'] = y_test\n",
    "\n",
    "for name,classifier in classifiers:\n",
    "    classifier = classifier\n",
    "    classifier.fit(X_train, y_train.ravel())\n",
    "    predictions = classifier.predict(X_test)\n",
    "    predictions_df[name.strip(\" :\")] = predictions\n",
    "    print(name, accuracy_score(y_test, predictions))"
   ]
  },
  {
   "cell_type": "code",
   "execution_count": 13,
   "metadata": {},
   "outputs": [
    {
     "name": "stderr",
     "output_type": "stream",
     "text": [
      "c:\\Users\\Antonio\\anaconda3\\lib\\site-packages\\sklearn\\preprocessing\\_label.py:98: DataConversionWarning: A column-vector y was passed when a 1d array was expected. Please change the shape of y to (n_samples, ), for example using ravel().\n",
      "  y = column_or_1d(y, warn=True)\n",
      "c:\\Users\\Antonio\\anaconda3\\lib\\site-packages\\sklearn\\preprocessing\\_label.py:133: DataConversionWarning: A column-vector y was passed when a 1d array was expected. Please change the shape of y to (n_samples, ), for example using ravel().\n",
      "  y = column_or_1d(y, warn=True)\n"
     ]
    },
    {
     "name": "stdout",
     "output_type": "stream",
     "text": [
      "              precision    recall  f1-score   support\n",
      "\n",
      "         0.0      0.985     0.985     0.985        68\n",
      "         1.0      0.990     0.990     0.990       103\n",
      "\n",
      "    accuracy                          0.988       171\n",
      "   macro avg      0.988     0.988     0.988       171\n",
      "weighted avg      0.988     0.988     0.988       171\n",
      "\n",
      "[[ 67   1]\n",
      " [  1 102]]\n"
     ]
    },
    {
     "name": "stderr",
     "output_type": "stream",
     "text": [
      "c:\\Users\\Antonio\\anaconda3\\lib\\site-packages\\sklearn\\preprocessing\\_label.py:98: DataConversionWarning: A column-vector y was passed when a 1d array was expected. Please change the shape of y to (n_samples, ), for example using ravel().\n",
      "  y = column_or_1d(y, warn=True)\n",
      "c:\\Users\\Antonio\\anaconda3\\lib\\site-packages\\sklearn\\preprocessing\\_label.py:133: DataConversionWarning: A column-vector y was passed when a 1d array was expected. Please change the shape of y to (n_samples, ), for example using ravel().\n",
      "  y = column_or_1d(y, warn=True)\n"
     ]
    },
    {
     "name": "stdout",
     "output_type": "stream",
     "text": [
      "              precision    recall  f1-score   support\n",
      "\n",
      "         0.0      0.985     0.971     0.978        68\n",
      "         1.0      0.981     0.990     0.986       103\n",
      "\n",
      "    accuracy                          0.982       171\n",
      "   macro avg      0.983     0.980     0.982       171\n",
      "weighted avg      0.982     0.982     0.982       171\n",
      "\n",
      "[[ 66   2]\n",
      " [  1 102]]\n"
     ]
    },
    {
     "name": "stderr",
     "output_type": "stream",
     "text": [
      "c:\\Users\\Antonio\\anaconda3\\lib\\site-packages\\sklearn\\preprocessing\\_label.py:98: DataConversionWarning: A column-vector y was passed when a 1d array was expected. Please change the shape of y to (n_samples, ), for example using ravel().\n",
      "  y = column_or_1d(y, warn=True)\n",
      "c:\\Users\\Antonio\\anaconda3\\lib\\site-packages\\sklearn\\preprocessing\\_label.py:133: DataConversionWarning: A column-vector y was passed when a 1d array was expected. Please change the shape of y to (n_samples, ), for example using ravel().\n",
      "  y = column_or_1d(y, warn=True)\n"
     ]
    },
    {
     "name": "stdout",
     "output_type": "stream",
     "text": [
      "              precision    recall  f1-score   support\n",
      "\n",
      "         0.0      0.971     0.985     0.978        68\n",
      "         1.0      0.990     0.981     0.985       103\n",
      "\n",
      "    accuracy                          0.982       171\n",
      "   macro avg      0.981     0.983     0.982       171\n",
      "weighted avg      0.983     0.982     0.982       171\n",
      "\n",
      "[[ 67   1]\n",
      " [  2 101]]\n"
     ]
    }
   ],
   "source": [
    "from sklearn.ensemble import VotingClassifier\n",
    "clf1 = MLPClassifier(max_iter=1000)\n",
    "clf2 = KNeighborsClassifier(n_neighbors=15)\n",
    "clf3 = XGBClassifier()\n",
    "clf4 = SVC()\n",
    "clf5 = RandomForestClassifier()\n",
    "clf6 = LogisticRegression()\n",
    "clf7 = GaussianNB()\n",
    "eclf1 = VotingClassifier(estimators=[('MLP', clf1),('KNN',clf2),('SVM', clf4),('RF',clf5)], voting='hard')\n",
    "eclf2 = VotingClassifier(estimators=[('MLP', clf1),('RF',clf5),('LogReg',clf6)], voting='soft')\n",
    "eclf3 = VotingClassifier(estimators=[('MLP', clf1),('LogReg',clf6), ('XGB',clf3)], voting='soft')\n",
    "estimators = [eclf1,eclf2,eclf3]\n",
    "\n",
    "for estimator in estimators:\n",
    "    estimator.fit(X_train,y_train)\n",
    "    predictions = estimator.predict(X_test)\n",
    "    print(classification_report(y_test, predictions, digits=3))\n",
    "    print(confusion_matrix(y_test,predictions))"
   ]
  }
 ],
 "metadata": {
  "kernelspec": {
   "display_name": "Python 3",
   "language": "python",
   "name": "python3"
  },
  "language_info": {
   "codemirror_mode": {
    "name": "ipython",
    "version": 3
   },
   "file_extension": ".py",
   "mimetype": "text/x-python",
   "name": "python",
   "nbconvert_exporter": "python",
   "pygments_lexer": "ipython3",
   "version": "3.9.12"
  },
  "orig_nbformat": 4,
  "vscode": {
   "interpreter": {
    "hash": "222b8e0346e9e55e339048424356caf283c6ea446dc0fca0dec8b91655236899"
   }
  }
 },
 "nbformat": 4,
 "nbformat_minor": 2
}
