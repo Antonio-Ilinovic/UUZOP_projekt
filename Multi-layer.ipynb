{
 "cells": [
  {
   "cell_type": "code",
<<<<<<< Updated upstream
   "execution_count": 191,
=======
   "execution_count": 19,
>>>>>>> Stashed changes
   "metadata": {},
   "outputs": [
    {
     "name": "stdout",
     "output_type": "stream",
     "text": [
      "Epoch 0\n",
      "Train loss:  0.6987475752830505\n",
      "Train accuracy: 0.4849246144294739\n",
      "Test accuracy:  0.6023392081260681\n",
      "Epoch 10\n",
      "Train loss:  0.1606193482875824\n",
      "Train accuracy: 0.9522613286972046\n",
      "Test accuracy:  0.9766082167625427\n",
      "Epoch 20\n",
      "Train loss:  0.10764262825250626\n",
      "Train accuracy: 0.9723618030548096\n",
      "Test accuracy:  0.988304078578949\n",
      "Epoch 30\n",
      "Train loss:  0.03630048781633377\n",
      "Train accuracy: 0.9874371886253357\n",
      "Test accuracy:  0.9941520690917969\n",
      "Epoch 40\n",
      "Train loss:  0.03726070746779442\n",
      "Train accuracy: 0.9899497628211975\n",
      "Test accuracy:  0.9941520690917969\n",
      "Epoch 50\n",
      "Train loss:  0.014424994587898254\n",
      "Train accuracy: 0.9974874258041382\n",
      "Test accuracy:  0.9941520690917969\n",
      "Epoch 60\n",
      "Train loss:  0.007274862378835678\n",
      "Train accuracy: 1.0\n",
      "Test accuracy:  0.9941520690917969\n",
      "Epoch 70\n",
      "Train loss:  0.03396930173039436\n",
      "Train accuracy: 0.9874371886253357\n",
      "Test accuracy:  0.9941520690917969\n",
      "Epoch 80\n",
      "Train loss:  0.005705133080482483\n",
      "Train accuracy: 0.9974874258041382\n",
      "Test accuracy:  0.9941520690917969\n",
      "Epoch 90\n",
      "Train loss:  0.017241621389985085\n",
      "Train accuracy: 0.9899497628211975\n",
      "Test accuracy:  0.9941520690917969\n",
      "BEST ACCURACY: 0.9941520690917969\n"
     ]
    }
   ],
   "source": [
    "import torch\n",
    "import torch.nn as nn\n",
    "import numpy as np\n",
    "from torch.optim import lr_scheduler\n",
    "import matplotlib.pyplot as plt\n",
    "from sklearn import datasets\n",
    "from sklearn.preprocessing import StandardScaler\n",
    "from sklearn.model_selection import train_test_split\n",
    "from sklearn.metrics import confusion_matrix,classification_report\n",
    "\n",
    "NUM_EPOCHS = 100\n",
    "LEARNING_RATE = 0.01\n",
    "WEIGHT_DECAY = 0.000001\n",
    "\n",
    "data = datasets.load_breast_cancer()\n",
    "X,y = data.data,data.target\n",
    "\n",
    "n_samples, n_features = X.shape\n",
    "X_train, X_test, y_train,y_test = train_test_split(X,y,test_size=0.3,random_state=123)\n",
    "\n",
    "sc = StandardScaler()\n",
    "X_train = sc.fit_transform(X_train)\n",
    "X_test = sc.transform(X_test)\n",
    "\n",
    "X_train = torch.from_numpy(X_train.astype(np.float32))\n",
    "X_test = torch.from_numpy(X_test.astype(np.float32))\n",
    "y_train = torch.from_numpy(y_train.astype(np.float32))\n",
    "y_test = torch.from_numpy(y_test.astype(np.float32))\n",
    "\n",
    "y_train = y_train.view(y_train.shape[0],1)\n",
    "y_test = y_test.view(y_test.shape[0], 1)\n",
    "\n",
    "\n",
    "class Model(nn.Module):\n",
    "\n",
    "    def __init__(self,n_input_features):\n",
    "        super(Model,self).__init__()\n",
    "        self.Linear1 = nn.Linear(n_input_features,30)\n",
    "        self.dropout1 = nn.Dropout(p=0.3)\n",
    "        self.Linear2 = nn.Linear(30,50)\n",
    "        self.Linear3 = nn.Linear(50,30)\n",
    "        self.dropout2 = nn.Dropout(p=0.5)\n",
    "\n",
    "        self.Linear4 = nn.Linear(30,1)\n",
    "\n",
    "    def forward(self,x):\n",
    "        x = torch.relu(self.Linear1(x))\n",
    "        x = self.dropout1(x)\n",
    "        x = torch.relu(self.Linear2(x))\n",
    "        x = torch.relu(self.Linear3(x))\n",
    "        x = self.dropout2(x)\n",
    "\n",
    "        x = torch.sigmoid(self.Linear4(x))\n",
    "        return x\n",
    "\n",
    "model = Model(n_features)\n",
    "\n",
    "criterion = nn.BCELoss()\n",
    "optimizer = torch.optim.Adam(model.parameters(),lr = LEARNING_RATE,weight_decay=WEIGHT_DECAY)\n",
    "scheduler = lr_scheduler.ReduceLROnPlateau(optimizer, 'min',factor=0.01)\n",
    "\n",
    "test_results = []\n",
    "train_results = []\n",
    "max_accuracy = 0\n",
    "for epoch in range(NUM_EPOCHS):\n",
    "    model.train()\n",
    "    y_predicted = model(X_train)\n",
    "    loss = criterion(y_predicted,y_train)\n",
    "    loss.backward()\n",
    "    optimizer.step()\n",
    "    optimizer.zero_grad()        \n",
    "    \n",
    "    with torch.no_grad():\n",
    "        model.eval()\n",
    "        y_predicted_cls = y_predicted.round()\n",
    "        train_acc = y_predicted_cls.eq(y_train).sum()/float(y_train.shape[0])\n",
    "        y_predicted = model(X_test)\n",
    "        y_predicted_cls = y_predicted.round()\n",
    "        acc = y_predicted_cls.eq(y_test).sum()/float(y_test.shape[0])\n",
    "        if max_accuracy < acc.item():\n",
    "            max_accuracy = acc.item()\n",
    "            best_model = model\n",
    "            best_prediction_test = y_predicted_cls\n",
    "        if max_accuracy == acc.item():\n",
    "            conf_mat = confusion_matrix(y_test,y_predicted_cls)\n",
    "        train_results.append(train_acc*100)\n",
    "        test_results.append(acc*100)\n",
    "\n",
    "    if epoch % 10 == 0:\n",
    "        print('Epoch',epoch)\n",
    "        print('Train loss: ',loss.item())\n",
    "        print(\"Train accuracy:\",train_acc.item())\n",
    "        print(\"Test accuracy: \",acc.item())\n",
    "\n",
    "    scheduler.step(loss)\n",
    "\n",
    "\n",
<<<<<<< Updated upstream
    "print('BEST ACCURACY:',max_accuracy)\n",
    "model = best_model"
=======
    "            if max_accuracy == acc.item():\n",
    "                conf_mat = confusion_matrix(y_test,y_predicted_cls)\n",
    "            train_results.append(train_acc*100)\n",
    "            test_results.append(acc*100)\n",
    "\n",
    "        if epoch % 10 == 0 and print_info:\n",
    "            print('Epoch',epoch)\n",
    "            print('Train loss: ',loss.item())\n",
    "            print(\"Train accuracy:\",train_acc.item())\n",
    "            print(\"Test accuracy: \",acc.item())\n",
    "\n",
    "        # update the learning rate if the validation loss has plateaued\n",
    "        scheduler.step(loss)\n",
    "\n",
    "        # If the test accuracy has not improved for the specified number of epochs, stop training\n",
    "        if epochs_without_improvement == patience:\n",
    "            break\n",
    "\n",
    "\n",
    "    print('BEST ACCURACY:',max_accuracy)\n",
    "    model = best_model\n",
    "\n",
    "    return max_accuracy"
   ]
  },
  {
   "cell_type": "code",
   "execution_count": 22,
   "metadata": {},
   "outputs": [
    {
     "name": "stdout",
     "output_type": "stream",
     "text": [
      "BEST ACCURACY: 0.9930070042610168\n",
      "prosječna testna točnost: 0.9930070042610168\n"
     ]
    }
   ],
   "source": [
    "num_experiments = 1\n",
    "test_accuracies = []\n",
    "for _ in range(num_experiments):\n",
    "    test_accuracy = generate_test_accuracy()\n",
    "    max_accuracy = test_accuracy\n",
    "    test_accuracies.append(test_accuracy)\n",
    "test_accuracies = np.array(test_accuracies)\n",
    "print(f\"prosječna testna točnost: {test_accuracies.mean()}\")"
>>>>>>> Stashed changes
   ]
  },
  {
   "cell_type": "code",
<<<<<<< Updated upstream
   "execution_count": 192,
=======
   "execution_count": 23,
>>>>>>> Stashed changes
   "metadata": {},
   "outputs": [
    {
     "name": "stdout",
     "output_type": "stream",
     "text": [
      "Final test accuracy: 0.9941520690917969\n"
     ]
    },
    {
     "data": {
      "image/png": "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",
      "text/plain": [
       "<Figure size 1440x864 with 1 Axes>"
      ]
     },
     "metadata": {
      "needs_background": "light"
     },
     "output_type": "display_data"
    },
    {
     "name": "stdout",
     "output_type": "stream",
     "text": [
      "\n"
     ]
    }
   ],
   "source": [
    "print(\"Final test accuracy:\",max_accuracy)#test_results[-1].item())\n",
    "plt.figure(figsize=(20,12))\n",
    "plt.title(\"Rezultati procjena modela na skupu podataka za treniranje i skupu za validaciju\")\n",
    "plt.plot(test_results,label = 'Test')\n",
    "plt.plot(train_results,label = 'Train')\n",
    "plt.grid()\n",
    "plt.ylabel(\"Accuracy (%)\")\n",
    "plt.xlabel(\"Epoch\")\n",
    "plt.legend(loc='best')\n",
    "plt.show()\n",
    "print()"
   ]
  },
  {
   "cell_type": "code",
<<<<<<< Updated upstream
   "execution_count": 193,
=======
   "execution_count": 24,
>>>>>>> Stashed changes
   "metadata": {},
   "outputs": [
    {
     "name": "stdout",
     "output_type": "stream",
     "text": [
      "[[ 67   1]\n",
      " [  0 103]]\n",
      "              precision    recall  f1-score   support\n",
      "\n",
      "         0.0       1.00      0.99      0.99        68\n",
      "         1.0       0.99      1.00      1.00       103\n",
      "\n",
      "    accuracy                           0.99       171\n",
      "   macro avg       1.00      0.99      0.99       171\n",
      "weighted avg       0.99      0.99      0.99       171\n",
      "\n"
     ]
    }
   ],
   "source": [
    "print(confusion_matrix(y_test,best_prediction_test))\n",
    "print(classification_report(y_test,best_prediction_test))"
   ]
  }
 ],
 "metadata": {
  "kernelspec": {
   "display_name": "base",
   "language": "python",
   "name": "python3"
  },
  "language_info": {
   "codemirror_mode": {
    "name": "ipython",
    "version": 3
   },
   "file_extension": ".py",
   "mimetype": "text/x-python",
   "name": "python",
   "nbconvert_exporter": "python",
   "pygments_lexer": "ipython3",
   "version": "3.8.8"
  },
  "orig_nbformat": 4,
  "vscode": {
   "interpreter": {
    "hash": "ad2bdc8ecc057115af97d19610ffacc2b4e99fae6737bb82f5d7fb13d2f2c186"
   }
  }
 },
 "nbformat": 4,
 "nbformat_minor": 2
}
